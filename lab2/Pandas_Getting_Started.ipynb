{
 "metadata": {
  "name": "",
  "signature": "sha256:b1f5d5682cc31a447d937544387464606fdf5a71808fa72e807e93a8b14ac51e"
 },
 "nbformat": 3,
 "nbformat_minor": 0,
 "worksheets": [
  {
   "cells": [
    {
     "cell_type": "markdown",
     "metadata": {},
     "source": [
      "**pandas** is a Python package providing fast, flexible, and expressive data structures designed to make working with *relational* or *labeled* data both easy and intuitive.**pandas** is well suited for many different kinds of data, including tabular data with heterogeneously-typed columns, ordered and unordered time series data, and arbitrary matrix data with row and column labels.\n",
      "\n",
      "The two primary data structures of pandas are: **Series (1-dimensional)** and **DataFrame (2-dimensional)**.\n",
      "\n",
      "**pandas** documentation contains many details and also a [10 min tutorial](http://pandas.pydata.org/pandas-docs/stable/10min.html). Another useful resource would be the [Comparison with SQL](http://pandas.pydata.org/pandas-docs/stable/comparison_with_sql.html).\n",
      "\n",
      "Here we go over some basic functionality and commands using the olympics dataset. Three of the tables in the original dataset are provided as CSV files for this purpose (pandas/python can also read directly from the database -- we will cover that in the next lab)."
     ]
    },
    {
     "cell_type": "code",
     "collapsed": false,
     "input": [
      "import pandas as pd\n",
      "import numpy as np\n",
      "import matplotlib.pyplot as plt\n",
      "%pylab inline"
     ],
     "language": "python",
     "metadata": {},
     "outputs": [
      {
       "output_type": "stream",
       "stream": "stdout",
       "text": [
        "Populating the interactive namespace from numpy and matplotlib\n"
       ]
      }
     ],
     "prompt_number": 2
    },
    {
     "cell_type": "code",
     "collapsed": false,
     "input": [
      "countries = pd.read_csv('countries.csv')\n",
      "countries.head(5)"
     ],
     "language": "python",
     "metadata": {},
     "outputs": [
      {
       "html": [
        "<div style=\"max-height:1000px;max-width:1500px;overflow:auto;\">\n",
        "<table border=\"1\" class=\"dataframe\">\n",
        "  <thead>\n",
        "    <tr style=\"text-align: right;\">\n",
        "      <th></th>\n",
        "      <th>name</th>\n",
        "      <th>country_id</th>\n",
        "      <th>area_sqkm</th>\n",
        "      <th>population</th>\n",
        "    </tr>\n",
        "  </thead>\n",
        "  <tbody>\n",
        "    <tr>\n",
        "      <th>0</th>\n",
        "      <td> Algeria                                 </td>\n",
        "      <td> ALG</td>\n",
        "      <td> 2381741</td>\n",
        "      <td> 32853800</td>\n",
        "    </tr>\n",
        "    <tr>\n",
        "      <th>1</th>\n",
        "      <td> Argentina                               </td>\n",
        "      <td> ARG</td>\n",
        "      <td> 2780400</td>\n",
        "      <td> 38747150</td>\n",
        "    </tr>\n",
        "    <tr>\n",
        "      <th>2</th>\n",
        "      <td> Australia                               </td>\n",
        "      <td> AUS</td>\n",
        "      <td> 7682300</td>\n",
        "      <td> 21050000</td>\n",
        "    </tr>\n",
        "    <tr>\n",
        "      <th>3</th>\n",
        "      <td> Austria                                 </td>\n",
        "      <td> AUT</td>\n",
        "      <td>   83858</td>\n",
        "      <td>  8189444</td>\n",
        "    </tr>\n",
        "    <tr>\n",
        "      <th>4</th>\n",
        "      <td> The Bahamas                             </td>\n",
        "      <td> BAH</td>\n",
        "      <td>   13878</td>\n",
        "      <td>   323063</td>\n",
        "    </tr>\n",
        "  </tbody>\n",
        "</table>\n",
        "</div>"
       ],
       "metadata": {},
       "output_type": "pyout",
       "prompt_number": 3,
       "text": [
        "                                       name country_id  area_sqkm  population\n",
        "0  Algeria                                         ALG    2381741    32853800\n",
        "1  Argentina                                       ARG    2780400    38747150\n",
        "2  Australia                                       AUS    7682300    21050000\n",
        "3  Austria                                         AUT      83858     8189444\n",
        "4  The Bahamas                                     BAH      13878      323063"
       ]
      }
     ],
     "prompt_number": 3
    },
    {
     "cell_type": "code",
     "collapsed": false,
     "input": [
      "## countries is of type DataFrame\n",
      "## The following two commands provide some statistics and high-level information about it\n",
      "countries.dtypes"
     ],
     "language": "python",
     "metadata": {},
     "outputs": [
      {
       "metadata": {},
       "output_type": "pyout",
       "prompt_number": 5,
       "text": [
        "name          object\n",
        "country_id    object\n",
        "area_sqkm      int64\n",
        "population     int64\n",
        "dtype: object"
       ]
      }
     ],
     "prompt_number": 5
    },
    {
     "cell_type": "code",
     "collapsed": false,
     "input": [
      "countries.describe()"
     ],
     "language": "python",
     "metadata": {},
     "outputs": [
      {
       "html": [
        "<div style=\"max-height:1000px;max-width:1500px;overflow:auto;\">\n",
        "<table border=\"1\" class=\"dataframe\">\n",
        "  <thead>\n",
        "    <tr style=\"text-align: right;\">\n",
        "      <th></th>\n",
        "      <th>area_sqkm</th>\n",
        "      <th>population</th>\n",
        "    </tr>\n",
        "  </thead>\n",
        "  <tbody>\n",
        "    <tr>\n",
        "      <th>count</th>\n",
        "      <td>       58.000000</td>\n",
        "      <td> 5.800000e+01</td>\n",
        "    </tr>\n",
        "    <tr>\n",
        "      <th>mean</th>\n",
        "      <td>  1511383.948276</td>\n",
        "      <td> 5.857500e+07</td>\n",
        "    </tr>\n",
        "    <tr>\n",
        "      <th>std</th>\n",
        "      <td>  3278785.883280</td>\n",
        "      <td> 1.772140e+08</td>\n",
        "    </tr>\n",
        "    <tr>\n",
        "      <th>min</th>\n",
        "      <td>      430.000000</td>\n",
        "      <td> 2.695560e+05</td>\n",
        "    </tr>\n",
        "    <tr>\n",
        "      <th>25%</th>\n",
        "      <td>    66775.750000</td>\n",
        "      <td> 5.326772e+06</td>\n",
        "    </tr>\n",
        "    <tr>\n",
        "      <th>50%</th>\n",
        "      <td>   307001.500000</td>\n",
        "      <td> 1.557348e+07</td>\n",
        "    </tr>\n",
        "    <tr>\n",
        "      <th>75%</th>\n",
        "      <td>   797083.000000</td>\n",
        "      <td> 4.616071e+07</td>\n",
        "    </tr>\n",
        "    <tr>\n",
        "      <th>max</th>\n",
        "      <td> 17098242.000000</td>\n",
        "      <td> 1.323324e+09</td>\n",
        "    </tr>\n",
        "  </tbody>\n",
        "</table>\n",
        "</div>"
       ],
       "metadata": {},
       "output_type": "pyout",
       "prompt_number": 6,
       "text": [
        "             area_sqkm    population\n",
        "count        58.000000  5.800000e+01\n",
        "mean    1511383.948276  5.857500e+07\n",
        "std     3278785.883280  1.772140e+08\n",
        "min         430.000000  2.695560e+05\n",
        "25%       66775.750000  5.326772e+06\n",
        "50%      307001.500000  1.557348e+07\n",
        "75%      797083.000000  4.616071e+07\n",
        "max    17098242.000000  1.323324e+09"
       ]
      }
     ],
     "prompt_number": 6
    },
    {
     "cell_type": "code",
     "collapsed": false,
     "input": [
      "## Sort the data\n",
      "countries.sort(columns='population').head(5)"
     ],
     "language": "python",
     "metadata": {},
     "outputs": [
      {
       "html": [
        "<div style=\"max-height:1000px;max-width:1500px;overflow:auto;\">\n",
        "<table border=\"1\" class=\"dataframe\">\n",
        "  <thead>\n",
        "    <tr style=\"text-align: right;\">\n",
        "      <th></th>\n",
        "      <th>name</th>\n",
        "      <th>country_id</th>\n",
        "      <th>area_sqkm</th>\n",
        "      <th>population</th>\n",
        "    </tr>\n",
        "  </thead>\n",
        "  <tbody>\n",
        "    <tr>\n",
        "      <th>5 </th>\n",
        "      <td> Barbados                                </td>\n",
        "      <td> BAR</td>\n",
        "      <td>    430</td>\n",
        "      <td>  269556</td>\n",
        "    </tr>\n",
        "    <tr>\n",
        "      <th>29</th>\n",
        "      <td> Iceland                                 </td>\n",
        "      <td> ISL</td>\n",
        "      <td> 103000</td>\n",
        "      <td>  309672</td>\n",
        "    </tr>\n",
        "    <tr>\n",
        "      <th>4 </th>\n",
        "      <td> The Bahamas                             </td>\n",
        "      <td> BAH</td>\n",
        "      <td>  13878</td>\n",
        "      <td>  323063</td>\n",
        "    </tr>\n",
        "    <tr>\n",
        "      <th>53</th>\n",
        "      <td> Trinidad and Tobago                     </td>\n",
        "      <td> TRI</td>\n",
        "      <td>   5130</td>\n",
        "      <td> 1305236</td>\n",
        "    </tr>\n",
        "    <tr>\n",
        "      <th>20</th>\n",
        "      <td> Estonia                                 </td>\n",
        "      <td> EST</td>\n",
        "      <td>  45100</td>\n",
        "      <td> 1329697</td>\n",
        "    </tr>\n",
        "  </tbody>\n",
        "</table>\n",
        "</div>"
       ],
       "metadata": {},
       "output_type": "pyout",
       "prompt_number": 7,
       "text": [
        "                                        name country_id  area_sqkm  population\n",
        "5   Barbados                                        BAR        430      269556\n",
        "29  Iceland                                         ISL     103000      309672\n",
        "4   The Bahamas                                     BAH      13878      323063\n",
        "53  Trinidad and Tobago                             TRI       5130     1305236\n",
        "20  Estonia                                         EST      45100     1329697"
       ]
      }
     ],
     "prompt_number": 7
    },
    {
     "cell_type": "code",
     "collapsed": false,
     "input": [
      "## Select just one column\n",
      "## The output of this is actually of type 'Series'\n",
      "names = countries['name']\n",
      "type(names)"
     ],
     "language": "python",
     "metadata": {},
     "outputs": [
      {
       "metadata": {},
       "output_type": "pyout",
       "prompt_number": 8,
       "text": [
        "pandas.core.series.Series"
       ]
      }
     ],
     "prompt_number": 8
    },
    {
     "cell_type": "code",
     "collapsed": false,
     "input": [
      "names.head(5)"
     ],
     "language": "python",
     "metadata": {},
     "outputs": [
      {
       "metadata": {},
       "output_type": "pyout",
       "prompt_number": 9,
       "text": [
        "0    Algeria                                 \n",
        "1    Argentina                               \n",
        "2    Australia                               \n",
        "3    Austria                                 \n",
        "4    The Bahamas                             \n",
        "Name: name, dtype: object"
       ]
      }
     ],
     "prompt_number": 9
    },
    {
     "cell_type": "code",
     "collapsed": false,
     "input": [
      "## Select just first three rows\n",
      "countries[0:3]"
     ],
     "language": "python",
     "metadata": {},
     "outputs": [
      {
       "html": [
        "<div style=\"max-height:1000px;max-width:1500px;overflow:auto;\">\n",
        "<table border=\"1\" class=\"dataframe\">\n",
        "  <thead>\n",
        "    <tr style=\"text-align: right;\">\n",
        "      <th></th>\n",
        "      <th>name</th>\n",
        "      <th>country_id</th>\n",
        "      <th>area_sqkm</th>\n",
        "      <th>population</th>\n",
        "    </tr>\n",
        "  </thead>\n",
        "  <tbody>\n",
        "    <tr>\n",
        "      <th>0</th>\n",
        "      <td> Algeria                                 </td>\n",
        "      <td> ALG</td>\n",
        "      <td> 2381741</td>\n",
        "      <td> 32853800</td>\n",
        "    </tr>\n",
        "    <tr>\n",
        "      <th>1</th>\n",
        "      <td> Argentina                               </td>\n",
        "      <td> ARG</td>\n",
        "      <td> 2780400</td>\n",
        "      <td> 38747150</td>\n",
        "    </tr>\n",
        "    <tr>\n",
        "      <th>2</th>\n",
        "      <td> Australia                               </td>\n",
        "      <td> AUS</td>\n",
        "      <td> 7682300</td>\n",
        "      <td> 21050000</td>\n",
        "    </tr>\n",
        "  </tbody>\n",
        "</table>\n",
        "</div>"
       ],
       "metadata": {},
       "output_type": "pyout",
       "prompt_number": 10,
       "text": [
        "                                       name country_id  area_sqkm  population\n",
        "0  Algeria                                         ALG    2381741    32853800\n",
        "1  Argentina                                       ARG    2780400    38747150\n",
        "2  Australia                                       AUS    7682300    21050000"
       ]
      }
     ],
     "prompt_number": 10
    },
    {
     "cell_type": "code",
     "collapsed": false,
     "input": [
      "## Select rows where the population is above 100000000\n",
      "countries[countries.population > 100000000]"
     ],
     "language": "python",
     "metadata": {},
     "outputs": [
      {
       "html": [
        "<div style=\"max-height:1000px;max-width:1500px;overflow:auto;\">\n",
        "<table border=\"1\" class=\"dataframe\">\n",
        "  <thead>\n",
        "    <tr style=\"text-align: right;\">\n",
        "      <th></th>\n",
        "      <th>name</th>\n",
        "      <th>country_id</th>\n",
        "      <th>area_sqkm</th>\n",
        "      <th>population</th>\n",
        "    </tr>\n",
        "  </thead>\n",
        "  <tbody>\n",
        "    <tr>\n",
        "      <th>7 </th>\n",
        "      <td> Brazil                                  </td>\n",
        "      <td> BRA</td>\n",
        "      <td>  8514877</td>\n",
        "      <td>  186404900</td>\n",
        "    </tr>\n",
        "    <tr>\n",
        "      <th>10</th>\n",
        "      <td> China                                   </td>\n",
        "      <td> CHN</td>\n",
        "      <td>  9596961</td>\n",
        "      <td> 1323324000</td>\n",
        "    </tr>\n",
        "    <tr>\n",
        "      <th>32</th>\n",
        "      <td> Japan                                   </td>\n",
        "      <td> JPN</td>\n",
        "      <td>   377873</td>\n",
        "      <td>  128084700</td>\n",
        "    </tr>\n",
        "    <tr>\n",
        "      <th>39</th>\n",
        "      <td> Mexico                                  </td>\n",
        "      <td> MEX</td>\n",
        "      <td>  1958201</td>\n",
        "      <td>  107029400</td>\n",
        "    </tr>\n",
        "    <tr>\n",
        "      <th>42</th>\n",
        "      <td> Nigeria                                 </td>\n",
        "      <td> NGR</td>\n",
        "      <td>   923768</td>\n",
        "      <td>  131529700</td>\n",
        "    </tr>\n",
        "    <tr>\n",
        "      <th>48</th>\n",
        "      <td> Russia                                  </td>\n",
        "      <td> RUS</td>\n",
        "      <td> 17098242</td>\n",
        "      <td>  143201600</td>\n",
        "    </tr>\n",
        "    <tr>\n",
        "      <th>56</th>\n",
        "      <td> United States                           </td>\n",
        "      <td> USA</td>\n",
        "      <td>  9629091</td>\n",
        "      <td>  301140000</td>\n",
        "    </tr>\n",
        "  </tbody>\n",
        "</table>\n",
        "</div>"
       ],
       "metadata": {},
       "output_type": "pyout",
       "prompt_number": 11,
       "text": [
        "                                        name country_id  area_sqkm  population\n",
        "7   Brazil                                          BRA    8514877   186404900\n",
        "10  China                                           CHN    9596961  1323324000\n",
        "32  Japan                                           JPN     377873   128084700\n",
        "39  Mexico                                          MEX    1958201   107029400\n",
        "42  Nigeria                                         NGR     923768   131529700\n",
        "48  Russia                                          RUS   17098242   143201600\n",
        "56  United States                                   USA    9629091   301140000"
       ]
      }
     ],
     "prompt_number": 11
    },
    {
     "cell_type": "code",
     "collapsed": false,
     "input": [
      "## Read a second file, and do a \"join\"\n",
      "players = pd.read_csv('players.csv')\n",
      "join = pd.merge(players, countries, on='country_id')\n",
      "join.head(5)"
     ],
     "language": "python",
     "metadata": {},
     "outputs": [
      {
       "html": [
        "<div style=\"max-height:1000px;max-width:1500px;overflow:auto;\">\n",
        "<table border=\"1\" class=\"dataframe\">\n",
        "  <thead>\n",
        "    <tr style=\"text-align: right;\">\n",
        "      <th></th>\n",
        "      <th>name_x</th>\n",
        "      <th>player_id</th>\n",
        "      <th>country_id</th>\n",
        "      <th>birthdate</th>\n",
        "      <th>name_y</th>\n",
        "      <th>area_sqkm</th>\n",
        "      <th>population</th>\n",
        "    </tr>\n",
        "  </thead>\n",
        "  <tbody>\n",
        "    <tr>\n",
        "      <th>0</th>\n",
        "      <td> Aaron Egbele                            </td>\n",
        "      <td> EGBELAAR01</td>\n",
        "      <td> NGR</td>\n",
        "      <td> 1978-04-21</td>\n",
        "      <td> Nigeria                                 </td>\n",
        "      <td> 923768</td>\n",
        "      <td> 131529700</td>\n",
        "    </tr>\n",
        "    <tr>\n",
        "      <th>1</th>\n",
        "      <td> Clement Chukwu                          </td>\n",
        "      <td> CHUKWCLE01</td>\n",
        "      <td> NGR</td>\n",
        "      <td> 1977-08-12</td>\n",
        "      <td> Nigeria                                 </td>\n",
        "      <td> 923768</td>\n",
        "      <td> 131529700</td>\n",
        "    </tr>\n",
        "    <tr>\n",
        "      <th>2</th>\n",
        "      <td> Deji Aliu                               </td>\n",
        "      <td> ALIUDEJ01 </td>\n",
        "      <td> NGR</td>\n",
        "      <td> 1977-09-11</td>\n",
        "      <td> Nigeria                                 </td>\n",
        "      <td> 923768</td>\n",
        "      <td> 131529700</td>\n",
        "    </tr>\n",
        "    <tr>\n",
        "      <th>3</th>\n",
        "      <td> Enefiok Udo-Obong                       </td>\n",
        "      <td> UDOOBENE01</td>\n",
        "      <td> NGR</td>\n",
        "      <td> 1971-04-10</td>\n",
        "      <td> Nigeria                                 </td>\n",
        "      <td> 923768</td>\n",
        "      <td> 131529700</td>\n",
        "    </tr>\n",
        "    <tr>\n",
        "      <th>4</th>\n",
        "      <td> Glory Alozie                            </td>\n",
        "      <td> ALOZIGLO01</td>\n",
        "      <td> NGR</td>\n",
        "      <td> 1983-06-19</td>\n",
        "      <td> Nigeria                                 </td>\n",
        "      <td> 923768</td>\n",
        "      <td> 131529700</td>\n",
        "    </tr>\n",
        "  </tbody>\n",
        "</table>\n",
        "</div>"
       ],
       "metadata": {},
       "output_type": "pyout",
       "prompt_number": 12,
       "text": [
        "                                     name_x   player_id country_id  \\\n",
        "0  Aaron Egbele                              EGBELAAR01        NGR   \n",
        "1  Clement Chukwu                            CHUKWCLE01        NGR   \n",
        "2  Deji Aliu                                 ALIUDEJ01         NGR   \n",
        "3  Enefiok Udo-Obong                         UDOOBENE01        NGR   \n",
        "4  Glory Alozie                              ALOZIGLO01        NGR   \n",
        "\n",
        "    birthdate                                    name_y  area_sqkm  population  \n",
        "0  1978-04-21  Nigeria                                      923768   131529700  \n",
        "1  1977-08-12  Nigeria                                      923768   131529700  \n",
        "2  1977-09-11  Nigeria                                      923768   131529700  \n",
        "3  1971-04-10  Nigeria                                      923768   131529700  \n",
        "4  1983-06-19  Nigeria                                      923768   131529700  "
       ]
      }
     ],
     "prompt_number": 12
    },
    {
     "cell_type": "code",
     "collapsed": false,
     "input": [
      "## Do a group by count\n",
      "## We need to use size() and not count() -- count() counts the number of non-null values in each column\n",
      "players.groupby('country_id').size().head()"
     ],
     "language": "python",
     "metadata": {},
     "outputs": [
      {
       "metadata": {},
       "output_type": "pyout",
       "prompt_number": 15,
       "text": [
        "country_id\n",
        "ALG            4\n",
        "ARG            1\n",
        "AUS           34\n",
        "AUT            2\n",
        "BAH            5\n",
        "dtype: int64"
       ]
      }
     ],
     "prompt_number": 15
    },
    {
     "cell_type": "code",
     "collapsed": false,
     "input": [
      "## Apply a regular expression to the names of players\n",
      "## For the players who don't match, the result is NaN\n",
      "players['name'].str.extract('([AEOIU]b)')"
     ],
     "language": "python",
     "metadata": {},
     "outputs": [
      {
       "metadata": {},
       "output_type": "pyout",
       "prompt_number": 16,
       "text": [
        "0     NaN\n",
        "1     NaN\n",
        "2      Ab\n",
        "3     NaN\n",
        "4     NaN\n",
        "5     NaN\n",
        "6     NaN\n",
        "7     NaN\n",
        "8     NaN\n",
        "9     NaN\n",
        "10    NaN\n",
        "11    NaN\n",
        "12    NaN\n",
        "13    NaN\n",
        "14    NaN\n",
        "...\n",
        "438    NaN\n",
        "439    NaN\n",
        "440    NaN\n",
        "441    NaN\n",
        "442    NaN\n",
        "443    NaN\n",
        "444    NaN\n",
        "445    NaN\n",
        "446    NaN\n",
        "447    NaN\n",
        "448    NaN\n",
        "449    NaN\n",
        "450    NaN\n",
        "451    NaN\n",
        "452    NaN\n",
        "Name: name, Length: 453, dtype: object"
       ]
      }
     ],
     "prompt_number": 16
    },
    {
     "cell_type": "code",
     "collapsed": false,
     "input": [
      "players['name'].str.extract('([AEOIU]b)').count()"
     ],
     "language": "python",
     "metadata": {},
     "outputs": [
      {
       "metadata": {},
       "output_type": "pyout",
       "prompt_number": 17,
       "text": [
        "5"
       ]
      }
     ],
     "prompt_number": 17
    },
    {
     "cell_type": "code",
     "collapsed": false,
     "input": [
      "## Find players from CZR\n",
      "players[players['country_id'] =='CZR']"
     ],
     "language": "python",
     "metadata": {},
     "outputs": [
      {
       "html": [
        "<div style=\"max-height:1000px;max-width:1500px;overflow:auto;\">\n",
        "<table border=\"1\" class=\"dataframe\">\n",
        "  <thead>\n",
        "    <tr style=\"text-align: right;\">\n",
        "      <th></th>\n",
        "      <th>name</th>\n",
        "      <th>player_id</th>\n",
        "      <th>country_id</th>\n",
        "      <th>birthdate</th>\n",
        "    </tr>\n",
        "  </thead>\n",
        "  <tbody>\n",
        "    <tr>\n",
        "      <th>176</th>\n",
        "      <td> Jan Zelezny                             </td>\n",
        "      <td> ZELEZJAN01</td>\n",
        "      <td> CZR</td>\n",
        "      <td> 1976-11-09</td>\n",
        "    </tr>\n",
        "    <tr>\n",
        "      <th>178</th>\n",
        "      <td> Jaroslav Baba                           </td>\n",
        "      <td> BABAJAR01 </td>\n",
        "      <td> CZR</td>\n",
        "      <td> 1971-09-26</td>\n",
        "    </tr>\n",
        "    <tr>\n",
        "      <th>345</th>\n",
        "      <td> Roman Sebrle                            </td>\n",
        "      <td> SEBRLROM01</td>\n",
        "      <td> CZR</td>\n",
        "      <td> 1975-08-25</td>\n",
        "    </tr>\n",
        "  </tbody>\n",
        "</table>\n",
        "</div>"
       ],
       "metadata": {},
       "output_type": "pyout",
       "prompt_number": 18,
       "text": [
        "                                         name   player_id country_id  \\\n",
        "176  Jan Zelezny                               ZELEZJAN01        CZR   \n",
        "178  Jaroslav Baba                             BABAJAR01         CZR   \n",
        "345  Roman Sebrle                              SEBRLROM01        CZR   \n",
        "\n",
        "      birthdate  \n",
        "176  1976-11-09  \n",
        "178  1971-09-26  \n",
        "345  1975-08-25  "
       ]
      }
     ],
     "prompt_number": 18
    },
    {
     "cell_type": "code",
     "collapsed": false,
     "input": [],
     "language": "python",
     "metadata": {},
     "outputs": []
    }
   ],
   "metadata": {}
  }
 ]
}