{
 "metadata": {
  "name": "",
  "signature": "sha256:76b575416886301f035e367f67fc8d2302e6a1b41b35c804f595b885003415be"
 },
 "nbformat": 3,
 "nbformat_minor": 0,
 "worksheets": [
  {
   "cells": [
    {
     "cell_type": "markdown",
     "metadata": {},
     "source": [
      "Advanced Pandas Lab\n",
      "===================\n",
      "\n",
      "The goal of this part of Lab3 is to go over some advanced functionalities of the pandas package. To complete this exercise you need to follow the code provided below step-by-step. At different points you will be requested to complete various code segments so that you retrieve the output presented in the following cells."
     ]
    },
    {
     "cell_type": "code",
     "collapsed": false,
     "input": [
      "# Import pandas and numpy\n",
      "import pandas as pd\n",
      "import numpy as np\n",
      "\n",
      "# Set some Pandas options\n",
      "pd.set_option('display.notebook_repr_html', False)\n",
      "pd.set_option('display.max_columns', 20)\n",
      "pd.set_option('display.max_rows', 25)"
     ],
     "language": "python",
     "metadata": {},
     "outputs": [],
     "prompt_number": 1
    },
    {
     "cell_type": "markdown",
     "metadata": {},
     "source": [
      "Dataset Description\n",
      "-------------------\n",
      "\n",
      "In this lab we are going to use a dataset from a multi-center, randomized controlled trial of botulinum toxin type B (BotB) in patients with cervical dystonia from nine U.S. sites. Below you can find some information about the clinical trial:\n",
      "\n",
      "* Patients were randomly separated in three groups. The first group had N=36 patients and received a placebo, the second group had N=36 patients and received 5000 units of BotB, and the last group had N=37 and received 10,000 units of BotB.\n",
      "* The response variable corresponds to the total score on Toronto Western Spasmodic Torticollis Rating Scale (TWSTRS), measuring severity, pain and disability of cervical dystonia (high scores mean more impairment).\n",
      "* TWSTRS is measured at baseline week (week 0) and weeks 2, 4, 8, 12, and 16 after treatment began.\n",
      "\n",
      "Let's load the dataset from a csv file and see how the first rows look like."
     ]
    },
    {
     "cell_type": "code",
     "collapsed": false,
     "input": [
      "cdystonia = pd.read_csv(\"data/cdystonia.csv\", index_col=None)\n",
      "cdystonia['twstrs'] = cdystonia['twstrs'].astype(np.float64)\n",
      "cdystonia.head()"
     ],
     "language": "python",
     "metadata": {},
     "outputs": [
      {
       "metadata": {},
       "output_type": "pyout",
       "prompt_number": 2,
       "text": [
        "   patient  obs  week  site  id  treat  age sex  twstrs\n",
        "0        1    1     0     1   1  5000U   65   F      32\n",
        "1        1    2     2     1   1  5000U   65   F      30\n",
        "2        1    3     4     1   1  5000U   65   F      24\n",
        "3        1    4     8     1   1  5000U   65   F      37\n",
        "4        1    5    12     1   1  5000U   65   F      39\n",
        "\n",
        "[5 rows x 9 columns]"
       ]
      }
     ],
     "prompt_number": 2
    },
    {
     "cell_type": "markdown",
     "metadata": {},
     "source": [
      "Value replacement\n",
      "-----------------\n",
      "\n",
      "Frequently, we get data columns that are encoded as strings that we wish to represent numerically for the purposes of including it in a quantitative analysis. For example, consider the treatment variable in the cervical dystonia dataset. We print the number of rows containing each treatment value."
     ]
    },
    {
     "cell_type": "code",
     "collapsed": false,
     "input": [
      "cdystonia.treat.value_counts()"
     ],
     "language": "python",
     "metadata": {},
     "outputs": [
      {
       "metadata": {},
       "output_type": "pyout",
       "prompt_number": 3,
       "text": [
        "10000U     213\n",
        "5000U      211\n",
        "Placebo    207\n",
        "dtype: int64"
       ]
      }
     ],
     "prompt_number": 3
    },
    {
     "cell_type": "markdown",
     "metadata": {},
     "source": [
      "A logical way to specify these numerically is to change them to integer values, perhaps using \"Placebo\" as a baseline value. If we create a dictionary with the original values as keys and the replacements as values, we can use it to implement the changes. We define the following map: "
     ]
    },
    {
     "cell_type": "code",
     "collapsed": false,
     "input": [
      "treat_map = {'Placebo': 0, '5000U': 1, '10000U': 2}"
     ],
     "language": "python",
     "metadata": {},
     "outputs": [],
     "prompt_number": 10
    },
    {
     "cell_type": "markdown",
     "metadata": {},
     "source": [
      "**Exercise:** Use the *replace* command of pandas ([documentation for replace command](http://pandas.pydata.org/pandas-docs/stable/generated/pandas.DataFrame.replace.html)) on the treat column to replace the string values with the integer values of the map. Store the result of this transformation into a new column named \"treatment\" in the original dataframe. Your output when you print the head of cdystonia should look like:"
     ]
    },
    {
     "cell_type": "code",
     "collapsed": false,
     "input": [
      "#cdystonia.insert(9,'treatment',cdystonia['treat']);\n",
      "cdystonia['treatment'].replace(treat_map,inplace=True);\n",
      "cdystonia.head()"
     ],
     "language": "python",
     "metadata": {},
     "outputs": [
      {
       "metadata": {},
       "output_type": "pyout",
       "prompt_number": 42,
       "text": [
        "   patient  obs  week  site  id  treat  age sex  twstrs  treatment\n",
        "0        1    1     0     1   1  5000U   65   F      32          1\n",
        "1        1    2     2     1   1  5000U   65   F      30          1\n",
        "2        1    3     4     1   1  5000U   65   F      24          1\n",
        "3        1    4     8     1   1  5000U   65   F      37          1\n",
        "4        1    5    12     1   1  5000U   65   F      39          1\n",
        "\n",
        "[5 rows x 10 columns]"
       ]
      }
     ],
     "prompt_number": 42
    },
    {
     "cell_type": "code",
     "collapsed": false,
     "input": [
      "cdystonia.head()"
     ],
     "language": "python",
     "metadata": {},
     "outputs": [
      {
       "metadata": {},
       "output_type": "pyout",
       "prompt_number": 43,
       "text": [
        "   patient  obs  week  site  id  treat  age sex  twstrs  treatment\n",
        "0        1    1     0     1   1  5000U   65   F      32          1\n",
        "1        1    2     2     1   1  5000U   65   F      30          1\n",
        "2        1    3     4     1   1  5000U   65   F      24          1\n",
        "3        1    4     8     1   1  5000U   65   F      37          1\n",
        "4        1    5    12     1   1  5000U   65   F      39          1\n",
        "\n",
        "[5 rows x 10 columns]"
       ]
      }
     ],
     "prompt_number": 43
    },
    {
     "cell_type": "markdown",
     "metadata": {},
     "source": [
      "Value discretization\n",
      "--------------------\n",
      "\n",
      "Now we focus on discretization of continuous or countable data into bins. The function that you need to use for discretization is *cut* [(documentation for cut command)](http://pandas.pydata.org/pandas-docs/stable/generated/pandas.cut.html). We want to bin the ages of the cervical dystonia patients into a smaller number of groups. Let's see some statistics regarding the age column of cdystonia."
     ]
    },
    {
     "cell_type": "code",
     "collapsed": false,
     "input": [
      "cdystonia.age.describe()"
     ],
     "language": "python",
     "metadata": {},
     "outputs": [
      {
       "metadata": {},
       "output_type": "pyout",
       "prompt_number": 44,
       "text": [
        "count    631.000000\n",
        "mean      55.616482\n",
        "std       12.123910\n",
        "min       26.000000\n",
        "25%       46.000000\n",
        "50%       56.000000\n",
        "75%       65.000000\n",
        "max       83.000000\n",
        "Name: age, dtype: float64"
       ]
      }
     ],
     "prompt_number": 44
    },
    {
     "cell_type": "markdown",
     "metadata": {},
     "source": [
      "**Exercise:** Use the cut command to transform this data into decades, beginning with individuals in their 20's and ending with those in their 90's. More precisely the bins should be set to [20,40,60,80,90]. After you perform the transformation print the first 30 entries of the transformation result. Your output should be:"
     ]
    },
    {
     "cell_type": "code",
     "collapsed": false,
     "input": [
      "cutOutput=pd.cut(cdystonia.age,[20,40,60,80,90], right=True,include_lowest=True);\n",
      "cutOutput[:30]"
     ],
     "language": "python",
     "metadata": {},
     "outputs": [
      {
       "metadata": {},
       "output_type": "pyout",
       "prompt_number": 71,
       "text": [
        " (60, 80]\n",
        " (60, 80]\n",
        " (60, 80]\n",
        " (60, 80]\n",
        " (60, 80]\n",
        " (60, 80]\n",
        " (60, 80]\n",
        " (60, 80]\n",
        " (60, 80]\n",
        " (60, 80]\n",
        "...\n",
        " (40, 60]\n",
        " (40, 60]\n",
        " (40, 60]\n",
        " (60, 80]\n",
        " (60, 80]\n",
        " (60, 80]\n",
        " (60, 80]\n",
        " (60, 80]\n",
        " (60, 80]\n",
        " (40, 60]\n",
        " (40, 60]\n",
        "Levels (4): Index(['[20, 40]', '(40, 60]', '(60, 80]', '(80, 90]'], dtype=object)\n",
        "Length: 30"
       ]
      }
     ],
     "prompt_number": 71
    },
    {
     "cell_type": "code",
     "collapsed": false,
     "input": [
      "cutOutput[:30]"
     ],
     "language": "python",
     "metadata": {},
     "outputs": [
      {
       "metadata": {},
       "output_type": "pyout",
       "prompt_number": 9,
       "text": [
        "Categorical: \n",
        "array([(60, 80], (60, 80], (60, 80], (60, 80], (60, 80], (60, 80],\n",
        "       (60, 80], (60, 80], (60, 80], (60, 80], (60, 80], (60, 80],\n",
        "       (60, 80], (60, 80], (60, 80], (60, 80], (60, 80], (60, 80],\n",
        "       (40, 60], (40, 60], (40, 60], (40, 60], (60, 80], (60, 80],\n",
        "       (60, 80], (60, 80], (60, 80], (60, 80], (40, 60], (40, 60]], dtype=object)\n",
        "Levels (4): Index([(20, 40], (40, 60], (60, 80], (80, 90]], dtype=object)"
       ]
      }
     ],
     "prompt_number": 9
    },
    {
     "cell_type": "markdown",
     "metadata": {},
     "source": [
      "**Exercise:** Since the data are now **ordinal**, rather than numeric, we can give them labels. Use the cut command again with the same bins from the previous exercise but this time assign the labels 'young', 'middle-aged', 'old' and 'ancient' to each bin respectively. After that, extend the cdystonia DataFrame to contain a new column named \"ageGroup\" that contains the appropriate label for each row. After this transformation, the head of the cdystonia DataFrame should look like this:"
     ]
    },
    {
     "cell_type": "code",
     "collapsed": false,
     "input": [
      "ageGroup = pd.cut(cdystonia.age,[20,40,60,80,90], right=True,labels=['young','middle-aged','old','ancient'],include_lowest=True);\n",
      "#cdystonia.insert(10,'ageGroup',ageGroup);\n",
      "cdystonia.head()"
     ],
     "language": "python",
     "metadata": {},
     "outputs": [
      {
       "metadata": {},
       "output_type": "pyout",
       "prompt_number": 76,
       "text": [
        "   patient  obs  week  site  id  treat  age sex  twstrs  treatment ageGroup\n",
        "0        1    1     0     1   1  5000U   65   F      32          1      old\n",
        "1        1    2     2     1   1  5000U   65   F      30          1      old\n",
        "2        1    3     4     1   1  5000U   65   F      24          1      old\n",
        "3        1    4     8     1   1  5000U   65   F      37          1      old\n",
        "4        1    5    12     1   1  5000U   65   F      39          1      old\n",
        "\n",
        "[5 rows x 11 columns]"
       ]
      }
     ],
     "prompt_number": 76
    },
    {
     "cell_type": "code",
     "collapsed": false,
     "input": [
      "cdystonia.head()"
     ],
     "language": "python",
     "metadata": {},
     "outputs": [
      {
       "metadata": {},
       "output_type": "pyout",
       "prompt_number": 11,
       "text": [
        "   patient  obs  week  site  id  treat  age sex  twstrs treatment ageGroup\n",
        "0        1    1     0     1   1  5000U   65   F      32         1      old\n",
        "1        1    2     2     1   1  5000U   65   F      30         1      old\n",
        "2        1    3     4     1   1  5000U   65   F      24         1      old\n",
        "3        1    4     8     1   1  5000U   65   F      37         1      old\n",
        "4        1    5    12     1   1  5000U   65   F      39         1      old"
       ]
      }
     ],
     "prompt_number": 11
    },
    {
     "cell_type": "markdown",
     "metadata": {},
     "source": [
      "Data aggregation and GroupBy operations\n",
      "---------------------------------------\n",
      "\n",
      "For the following please **read Chapter 9 from the book \"Python for Data Analysis\"**. In the previous lab you saw the **GroupBy** functionality of Pandas. In fact this is one of its most powerful features. On occasion we may want to perform operations on *groups* of observations within a dataset. For example:\n",
      "\n",
      "* **Aggregation**, such as computing the sum of mean of each group, which involves applying a function to each group and returning the aggregated results.\n",
      "\n",
      "* **Slicing** the DataFrame into groups and then doing something with the resulting slices (e.g., plotting).\n",
      "\n",
      "* Apply group-wise **transformations**, such as standardization or normalization."
     ]
    },
    {
     "cell_type": "markdown",
     "metadata": {},
     "source": [
      "**Exercise:** Group the cdystonia data on the 'patient' column. You need to create a new DataFrame named cdystonia_group containing the new data."
     ]
    },
    {
     "cell_type": "code",
     "collapsed": false,
     "input": [
      "cdystonia_group = cdystonia.groupby(cdystonia['patient']);"
     ],
     "language": "python",
     "metadata": {},
     "outputs": [],
     "prompt_number": 87
    },
    {
     "cell_type": "markdown",
     "metadata": {},
     "source": [
      "A common data analysis procedure is the **split-apply-combine** operation, which groups subsets of data together, applies a function to each of the groups, then recombines them into a new data table.\n",
      "\n",
      "For example, we may want to aggregate our data with some function (e.g., a summation):\n",
      "\n",
      "<img src=\"img/splitApplyCombine.png\">\n",
      "\n",
      "We can aggregate in Pandas using the aggregate (or agg, for short) method."
     ]
    },
    {
     "cell_type": "markdown",
     "metadata": {},
     "source": [
      "**Exercise:** Apply the aggregate method on cdystonia_grouped to obtain the mean value for the column 'twstrs' alone. You can use the method **np.mean** for computing the mean. Store the result in a new dataFrame named patientMeanTwstrs and print its head. The output should be:"
     ]
    },
    {
     "cell_type": "code",
     "collapsed": false,
     "input": [
      "patientMeanTwstrs = cdystonia_group['twstrs'].mean();\n",
      "patientMeanTwstrs.head()"
     ],
     "language": "python",
     "metadata": {},
     "outputs": [
      {
       "metadata": {},
       "output_type": "pyout",
       "prompt_number": 89,
       "text": [
        "patient\n",
        "1          33.000000\n",
        "2          47.666667\n",
        "3          30.500000\n",
        "4          60.000000\n",
        "5          46.166667\n",
        "Name: twstrs, dtype: float64"
       ]
      }
     ],
     "prompt_number": 89
    },
    {
     "cell_type": "code",
     "collapsed": false,
     "input": [
      "patientMeanTwstrs.head()"
     ],
     "language": "python",
     "metadata": {},
     "outputs": [
      {
       "metadata": {},
       "output_type": "pyout",
       "prompt_number": 14,
       "text": [
        "patient\n",
        "1          33.000000\n",
        "2          47.666667\n",
        "3          30.500000\n",
        "4          60.000000\n",
        "5          46.166667\n",
        "Name: twstrs, dtype: float64"
       ]
      }
     ],
     "prompt_number": 14
    },
    {
     "cell_type": "markdown",
     "metadata": {},
     "source": [
      "**Exercise:** Alternatively, we can **transform** the data, using  a function of our choice with the *transform* method. You are required to normalize the twstrs column of cdystonia_grouped. For that you first need to define a **lambda function** that normalizes the values of a numpy array. Before proceeding, read [this article](http://www.secnetix.de/olli/Python/lambda_functions.hawk) on lambda functions. Also notice that the normalization operation corresponds to replacing each value x in the numpy array with:\n",
      "\n",
      "(x - Mean value of array)/(Standard deviation of array)\n",
      "\n",
      "You should store the normalized data to a new variable named normalizedTWSTRS and print the head. The result should be:"
     ]
    },
    {
     "cell_type": "code",
     "collapsed": false,
     "input": [
      "f = lambda arr: (arr-arr.mean())/arr.std()\n",
      "normalizedTWSTRS = cdystonia_group['twstrs'].transform(f);\n",
      "normalizedTWSTRS.head()"
     ],
     "language": "python",
     "metadata": {},
     "outputs": [
      {
       "metadata": {},
       "output_type": "pyout",
       "prompt_number": 128,
       "text": [
        "0   -0.181369\n",
        "1   -0.544107\n",
        "2   -1.632322\n",
        "3    0.725476\n",
        "4    1.088214\n",
        "Name: twstrs, dtype: float64"
       ]
      }
     ],
     "prompt_number": 128
    },
    {
     "cell_type": "code",
     "collapsed": false,
     "input": [
      "normalizedTWSTRS.head()"
     ],
     "language": "python",
     "metadata": {},
     "outputs": [
      {
       "metadata": {},
       "output_type": "pyout",
       "prompt_number": 17,
       "text": [
        "0   -0.181369\n",
        "1   -0.544107\n",
        "2   -1.632322\n",
        "3    0.725476\n",
        "4    1.088214\n",
        "Name: twstrs, dtype: float64"
       ]
      }
     ],
     "prompt_number": 17
    }
   ],
   "metadata": {}
  }
 ]
}